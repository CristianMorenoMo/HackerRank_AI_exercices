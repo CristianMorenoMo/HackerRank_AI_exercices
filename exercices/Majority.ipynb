{
 "cells": [
  {
   "cell_type": "markdown",
   "metadata": {},
   "source": [
    " has to save the world one last time. One of the battles has cost Neo his eyes. He has to fight the battle with the Deus ex machina.\n",
    "\n",
    "In front of Neo is a set of N balls, each ball is color coded 0/1. Deus ex machina wants Neo to figure out which ball's color is the majority ( appears more than > N/2 ). If his choice of ball is correct, Deus ex machina will reach a truce and let humans live and if Neo fails to identify the ball with the majority, the entire human race would be put back into matrix.\n",
    "\n",
    "Neo being blind won't be able to see the balls let alone figure out the ball with the majority. He seeks the Oracle's help. Neo picks any two balls from the set and asks Oracle if they are of the same color or not. If they are the same color, the Oracle answers YES and if they are not, Oracle answers NO. We will call b0/1 as ball b with color 0/1 respectively. Majority exists in this set, i.e.,\n",
    "\n",
    "∃ bi : |bi| > N/2, i ∈ {0,1}\n",
    "\n",
    "Input Format\n",
    "\n",
    "First line contains 5 single space separated characters/Integers.\n",
    "1st is N which is the cardinality of the balls set.\n",
    "2nd is 0 indicating that Majority exists.\n",
    "3rd is an integer indicating the number of times oracle might lie ( 0 in this version of the game)\n",
    "4th is 2 indicating each ball can only have any of the 2 colors.\n",
    "5th is an integer 1 indicating the oracle lies exactly 0 time( ignore this number)\n",
    "2nd line is an integer D, D lines follow. Each line shows all your previous questions to Oracle. Each question is of the format "
   ]
  },
  {
   "cell_type": "markdown",
   "metadata": {},
   "source": [
    "Input Format\n",
    "\n",
    "First line contains 5 single space separated characters/Integers.\n",
    "* 1st is N which is the cardinality of the balls set.\n",
    "* 2nd is 0 indicating that Majority exists.\n",
    "* 3rd is an integer indicating the number of times oracle might lie ( 0 in this version of the game)\n",
    "* 4th is 2 indicating each ball can only have any of the 2 colors.\n",
    "* 5th is an integer 1 indicating the oracle lies exactly 0 time( ignore this number)\n",
    "* 2nd line is an integer D, D lines follow. Each line shows all your previous questions to Oracle. Each question is of the format "
   ]
  },
  {
   "cell_type": "code",
   "execution_count": null,
   "metadata": {},
   "outputs": [],
   "source": [
    "10 0 0 2 1\n",
    "0"
   ]
  },
  {
   "cell_type": "code",
   "execution_count": 6,
   "metadata": {},
   "outputs": [],
   "source": [
    "N=10\n",
    "balls = [1 for i in range(10)]\n"
   ]
  }
 ],
 "metadata": {
  "kernelspec": {
   "display_name": "Python 3",
   "language": "python",
   "name": "python3"
  },
  "language_info": {
   "codemirror_mode": {
    "name": "ipython",
    "version": 3
   },
   "file_extension": ".py",
   "mimetype": "text/x-python",
   "name": "python",
   "nbconvert_exporter": "python",
   "pygments_lexer": "ipython3",
   "version": "3.7.9"
  }
 },
 "nbformat": 4,
 "nbformat_minor": 4
}
