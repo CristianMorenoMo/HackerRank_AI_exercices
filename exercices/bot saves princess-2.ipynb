{
 "cells": [
  {
   "cell_type": "markdown",
   "metadata": {},
   "source": [
    "In this version of \"bot saves princess\", Princes peach and bot's position are randomly set. Can you save the princess?\n",
    "\n",
    "## task\n",
    "\n",
    "Complete the function nextMove which takes in 4 parameters-an integer N, integers r and c indicating  the row & column position of the bot and the character array grid - and outputs the next  move the bot make to rescue  the princes\n",
    "\n",
    "The position of the princess is indicated by the character 'p' and the position of the bot is indicated by the character 'm' and each cell is denoted by '-' (ascii value: 45). "
   ]
  },
  {
   "cell_type": "code",
   "execution_count": 138,
   "metadata": {},
   "outputs": [],
   "source": [
    "def nextMove(n,r,c,grid):\n",
    "    if True in [('p' in (grid[i])) for i in range(r)]:\n",
    "        bolean = [('p' in (grid[i])) for i in range(r)]\n",
    "        r_f = ([i for i in range(len(bolean)) if bolean[i]])[0]\n",
    "        c_f = [i for i in range(len(grid[r_f])) if (grid[r_f][i]=='p')][0]\n",
    "        p_p = (r_f,c_f)\n",
    "    else:\n",
    "        bolean = [('p' in (grid[i])) for i in range(r,n)]\n",
    "        r_f = ([i+r for i  in range(len(bolean)) if bolean[i]])[0]        \n",
    "        c_f = [i for i in range(len(grid[r_f])) if (grid[r_f][i]=='p')][0]\n",
    "        p_p = (r_f,c_f)\n",
    "        \n",
    "    if r-p_p[0] == 0:\n",
    "        if c-p_p[1] >0 :\n",
    "            result = 'LEFT'\n",
    "        else:\n",
    "            result = 'RIGHT'\n",
    "    elif r-p_p[0] >0:\n",
    "        result = 'UP'\n",
    "    else:\n",
    "        result = 'DOWN'\n",
    "    \n",
    "    return result"
   ]
  },
  {
   "cell_type": "code",
   "execution_count": 142,
   "metadata": {},
   "outputs": [],
   "source": [
    "grid=[  'p---------',\n",
    "        '----------',\n",
    "        '----------',\n",
    "        '----------',\n",
    "        '----------',\n",
    "        '----m-----',\n",
    "        '----------',\n",
    "        '----------',\n",
    "        '----------',\n",
    "        '----------']"
   ]
  },
  {
   "cell_type": "code",
   "execution_count": 143,
   "metadata": {},
   "outputs": [
    {
     "data": {
      "text/plain": [
       "'UP'"
      ]
     },
     "execution_count": 143,
     "metadata": {},
     "output_type": "execute_result"
    }
   ],
   "source": [
    "nextMove(len(grid),5,4,grid)"
   ]
  }
 ],
 "metadata": {
  "kernelspec": {
   "display_name": "Python 3",
   "language": "python",
   "name": "python3"
  },
  "language_info": {
   "codemirror_mode": {
    "name": "ipython",
    "version": 3
   },
   "file_extension": ".py",
   "mimetype": "text/x-python",
   "name": "python",
   "nbconvert_exporter": "python",
   "pygments_lexer": "ipython3",
   "version": "3.7.9"
  }
 },
 "nbformat": 4,
 "nbformat_minor": 4
}
