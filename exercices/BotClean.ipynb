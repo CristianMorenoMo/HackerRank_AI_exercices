{
 "cells": [
  {
   "cell_type": "markdown",
   "metadata": {},
   "source": [
    "The goal of Artificial Intelligence is to create a rational agent (Artificial Intelligence 1.1.4). An agent gets input from the environment through sensors and acts on the environment with actuators. In this challenge, you will program a simple bot to perform the correct actions based on environmental input.\n",
    "\n",
    "Meet the bot MarkZoid. It's a cleaning bot whose sensor is a head mounted camera and whose actuators are the wheels beneath it. It's used to clean the floor.\n",
    "\n",
    "The bot here is positioned at the top left corner of a 5*5 grid. Your task is to move the bot to clean all the dirty cells.\n",
    "\n",
    "Input Format\n",
    "\n",
    "The first line contains two space separated integers which indicate the current position of the bot.\n",
    "The board is indexed using Matrix Convention\n",
    "5 lines follow representing the grid. Each cell in the grid is represented by any of the following 3 characters: 'b' (ascii value 98) indicates the bot's current position, 'd' (ascii value 100) indicates a dirty cell and '-' (ascii value 45) indicates a clean cell in the grid.\n",
    "\n",
    "Note If the bot is on a dirty cell, the cell will still have 'd' on it.\n",
    "\n",
    "Output Format\n",
    "\n",
    "The output is the action that is taken by the bot in the current step, and it can be either one of the movements in 4 directions or cleaning up the cell in which it is currently located. The valid output strings are LEFT, RIGHT, UP and DOWN or CLEAN. If the bot ever reaches a dirty cell, output CLEAN to clean the dirty cell. Repeat this process until all the cells on the grid are cleaned."
   ]
  },
  {
   "cell_type": "code",
   "execution_count": 2,
   "metadata": {},
   "outputs": [],
   "source": [
    "def next_move(posr, posc, board):\n",
    "    r_c = []  \n",
    "    for k in range(len(board)):\n",
    "        r_c.append([[k,i] for i in range(len(board[k])) if (board[k][i] == 'd')])\n",
    "    r_c = [r_c[x][y] for x in range(len(r_c)) for y in range(len(r_c[x]))]\n",
    "    move = [[ posr - c[0],posc -c[1]] for c in r_c]\n",
    "    count = [abs(posr - c[0]) + abs(posc -c[1]) for c in r_c]\n",
    "    p_min = [i for i in range(len(count)) if count[i] == min(count)][0]\n",
    "    if [posr ,posc] in r_c:\n",
    "        result = 'CLEAN'\n",
    "    else:\n",
    "        if move[p_min][0]==0:\n",
    "            if move[p_min][1]<0:\n",
    "                result = 'RIGHT'\n",
    "            else:\n",
    "                result = 'LEFT'\n",
    "        elif move[p_min][0]!=0:\n",
    "            if move[p_min][0]>0:\n",
    "                result = 'UP'\n",
    "            else:\n",
    "                result= 'DOWN'\n",
    "    return result         "
   ]
  },
  {
   "cell_type": "code",
   "execution_count": 3,
   "metadata": {},
   "outputs": [],
   "source": [
    "grid=[['-', 'd', '-', '-', '-'], ['-', 'd', '-', '-', 'b'], ['-', '-', '-', 'd', '-'], ['-', '-', '-', 'd', '-'], ['-', '-', 'd', '-', 'd']]"
   ]
  },
  {
   "cell_type": "code",
   "execution_count": 4,
   "metadata": {},
   "outputs": [
    {
     "data": {
      "text/plain": [
       "[['-', 'd', '-', '-', '-'],\n",
       " ['-', 'd', '-', '-', 'b'],\n",
       " ['-', '-', '-', 'd', '-'],\n",
       " ['-', '-', '-', 'd', '-'],\n",
       " ['-', '-', 'd', '-', 'd']]"
      ]
     },
     "execution_count": 4,
     "metadata": {},
     "output_type": "execute_result"
    }
   ],
   "source": [
    "grid"
   ]
  },
  {
   "cell_type": "code",
   "execution_count": 5,
   "metadata": {},
   "outputs": [
    {
     "data": {
      "text/plain": [
       "'DOWN'"
      ]
     },
     "execution_count": 5,
     "metadata": {},
     "output_type": "execute_result"
    }
   ],
   "source": [
    "next_move(1, 4, grid)"
   ]
  }
 ],
 "metadata": {
  "kernelspec": {
   "display_name": "Python 3",
   "language": "python",
   "name": "python3"
  },
  "language_info": {
   "codemirror_mode": {
    "name": "ipython",
    "version": 3
   },
   "file_extension": ".py",
   "mimetype": "text/x-python",
   "name": "python",
   "nbconvert_exporter": "python",
   "pygments_lexer": "ipython3",
   "version": "3.7.9"
  }
 },
 "nbformat": 4,
 "nbformat_minor": 4
}
