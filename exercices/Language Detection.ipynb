{
 "cells": [
  {
   "cell_type": "markdown",
   "metadata": {},
   "source": [
    "Given a snippet of text in English, French, German, or Spanish, detect the snippet's language and print the language name. You may build an offline model for this. The snippet may contain one or more lines.\n",
    "\n",
    "You may make no more than 15 submissions for this problem, during the contest.\n",
    "\n",
    "Input Format\n",
    "\n",
    "One or more lines of text.\n",
    "\n",
    "Constraints\n",
    "\n",
    "Output Format\n",
    "\n",
    "Print the snippet's language (in Title Case, as written above) on a new line."
   ]
  },
  {
   "cell_type": "markdown",
   "metadata": {},
   "source": [
    "\n",
    "words: a, an, and, in, of, on, the, that, to, is, what, I (should always be a capital)\n",
    "letter sequences: th, ch, sh, ough, augh, qu\n",
    "word endings: -ing, -tion, -ed, -age, -s, -’s, -’ve, -n’t, -’d\n",
    "diacritics or accents only in loanwords (piñata)\n",
    "slang: drip, lit, cancerous(used when a situation or series of events are so uncomfortable it causes a violent cringing of the body), fire (much like lit, it's used to signify when something is so good it causes excitement or immense joy in someone: i.e. \"this song is fire!!\" )"
   ]
  },
  {
   "cell_type": "code",
   "execution_count": 2,
   "metadata": {
    "scrolled": false
   },
   "outputs": [
    {
     "name": "stdout",
     "output_type": "stream",
     "text": [
      "    Si quieres que te asciendan te tienes que poner las pilas.\n",
      "Spanish\n"
     ]
    }
   ],
   "source": [
    "import re\n",
    "import sys\n",
    "german = ['der', 'die', 'das', 'den', 'dem', 'des', 'er', 'sie', 'es', 'ist', 'ich', 'du', 'aber']\n",
    "english = [ 'a', 'an', 'and', 'in', 'of', 'on', 'the', 'that', 'to', 'is', 'what', 'i' ] \n",
    "spanish = ['de', 'el', 'del', 'los', 'la', 'las', 'uno','unos', 'una','unas' , 'y']\n",
    "french = ['de', 'la', 'le', 'du', 'des', 'il', 'et']\n",
    "if __name__ == '__main__':\n",
    "    #s = sys.stdin.read() \n",
    "    s = input()\n",
    "split = re.split(r'[\\s|,|;|.]',s) \n",
    "split = [s for s in split if split!='']\n",
    "count_fre = (list(map(lambda x  : (x , split.count(x)) , split)))\n",
    "#len(count_fre)\n",
    "used = set()\n",
    "unique = [x for x in count_fre if x not in used and (used.add(x) or True)]\n",
    "sample = [t[0] for t in unique if t[1]>=1] \n",
    "german_t = [s in german for s in sample]\n",
    "english_t = [s in english for s in sample]\n",
    "spanish_t = [s in spanish for s in sample]\n",
    "french_t = [s in french for s in sample]\n",
    "p_g = sum(german_t)/len(german_t)\n",
    "p_en = sum(english_t)/len(english_t)\n",
    "p_es = sum(spanish_t)/len(spanish_t)\n",
    "p_fr = sum(french_t)/len(french_t)\n",
    "n = [i for i, j in enumerate([p_g,p_en,p_es,p_fr]) if j == max([p_g,p_en,p_es,p_fr])][0]\n",
    "if n ==0:\n",
    "    print('German')\n",
    "elif n==1:\n",
    "    print('English')\n",
    "elif n==2:\n",
    "    print('Spanish')\n",
    "else: \n",
    "    print('French')"
   ]
  }
 ],
 "metadata": {
  "kernelspec": {
   "display_name": "Python 3",
   "language": "python",
   "name": "python3"
  },
  "language_info": {
   "codemirror_mode": {
    "name": "ipython",
    "version": 3
   },
   "file_extension": ".py",
   "mimetype": "text/x-python",
   "name": "python",
   "nbconvert_exporter": "python",
   "pygments_lexer": "ipython3",
   "version": "3.7.9"
  }
 },
 "nbformat": 4,
 "nbformat_minor": 4
}
