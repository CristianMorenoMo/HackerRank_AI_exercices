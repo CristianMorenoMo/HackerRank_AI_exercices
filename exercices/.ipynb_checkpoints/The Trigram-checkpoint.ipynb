{
 "cells": [
  {
   "cell_type": "markdown",
   "metadata": {},
   "source": [
    "Given a large chunk of text, identify the most frequently occurring trigram in it. If there are multiple trigrams with the same frequency, then print the one which occurred first.\n",
    "\n",
    "Assume that trigrams are groups of three consecutive words in the same sentence which are separated by nothing but a single space and are case insensitive. The size of the input will be less than 10 kilobytes.\n",
    "\n",
    "Input: I love games. I love to code.\n",
    "Here \"games I love\" is not a trigram because all the three words in trigram should be from the \n",
    "same sentence.\n",
    "\n",
    "Input Format\n",
    "\n",
    "A large chunk of text.\n",
    "\n",
    "Constraints\n",
    "\n",
    "The input contains lowercase or uppercase alphabets, whitespaces and dots.\n",
    "\n",
    "Output Format\n",
    "\n",
    "The most popular trigram - three words, with nothing but a space in between them. The output should be in lowercase. (If a trigram ends with dot then you should remove the dot.)"
   ]
  },
  {
   "cell_type": "code",
   "execution_count": null,
   "metadata": {},
   "outputs": [],
   "source": [
    "#!/bin/python3\n",
    "\n",
    "import math\n",
    "import os\n",
    "import random\n",
    "import re\n",
    "import sys\n",
    "\n",
    "\n",
    "\n",
    "if __name__ == '__main__':\n",
    "    s = sys.stdin.read() \n",
    "\n",
    "def letras(s):\n",
    "    t= s.replace('\\n', ' ').replace('\\r', '')\n",
    "    t=re.split(r'[\\s]',t.lower())\n",
    "    triplas = [[t[i]+' '+ t[i+1] + ' '+ t[i+2]] for i in range(len(t)-2)]\n",
    "    win = [ sum([t==k for k in triplas])-1   for t in triplas]\n",
    "    a=[max(win)==k for k in win]\n",
    "    win_ = min([i for i in range(len(a)) if a[i]==True ])\n",
    "    print(triplas[win_][0])\n",
    "\n",
    "letras(s)\n"
   ]
  }
 ],
 "metadata": {
  "kernelspec": {
   "display_name": "Python 3",
   "language": "python",
   "name": "python3"
  },
  "language_info": {
   "codemirror_mode": {
    "name": "ipython",
    "version": 3
   },
   "file_extension": ".py",
   "mimetype": "text/x-python",
   "name": "python",
   "nbconvert_exporter": "python",
   "pygments_lexer": "ipython3",
   "version": "3.7.9"
  }
 },
 "nbformat": 4,
 "nbformat_minor": 4
}
