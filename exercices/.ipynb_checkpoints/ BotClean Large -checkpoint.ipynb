{
 "cells": [
  {
   "cell_type": "markdown",
   "metadata": {},
   "source": [
    "MegaMaid is a robot whose function is to move through a matrix and clean all of its dirty cells. It's positioned in some cell of an\n",
    "\n",
    "matrix of dirty (d) and clean (-) cells. It can perform five types of operations:\n",
    "\n",
    "    LEFT: Move one cell to the left.\n",
    "    RIGHT: Move one cell to the right.\n",
    "    UP: Move one cell up.\n",
    "    DOWN: Move one cell down.\n",
    "    CLEAN: Clean the cell.\n",
    "\n",
    "Given the robot's current location and the configuration of dirty and clean cells in the matrix, print the next operation MegaMaid will perform (e.g., UP, CLEAN, etc.) on a new line.\n",
    "\n",
    "Input Format\n",
    "\n",
    "The first line contains two space-separated integers describing the respective\n",
    "(row) and (column) coordinates of MegaMaid's initial location.\n",
    "The second line contains two space-separated integers describing the respective height, , and width, , of the matrix.\n",
    "Each line of the subsequent lines contains a string of characters describing row in the matrix; each character describes the character at location\n",
    "\n",
    "according to the following key:\n",
    "\n",
    "    b denotes MegaMaid's location (in a clean cell).\n",
    "    d denotes a dirty cell.\n",
    "    - denotes a clean cell.\n",
    "\n",
    "Note: If MegaMaid is initially located in a dirty cell, the cell will be marked with a d (not a b).\n",
    "\n",
    "Constraints\n",
    "\n",
    "Output Format\n",
    "\n",
    "Print the next operation MegaMaid will perform (i.e., LEFT, RIGHT, UP, DOWN, CLEAN). It's important to only print the next operation, because your program will be called iteratively after performing each operation."
   ]
  },
  {
   "cell_type": "code",
   "execution_count": 72,
   "metadata": {},
   "outputs": [
    {
     "name": "stdout",
     "output_type": "stream",
     "text": [
      "5 5\n",
      "5 5\n",
      "d-d-d-\n",
      "---d-\n",
      "-d--d\n",
      "dd---\n",
      "d----\n",
      "UP\n"
     ]
    }
   ],
   "source": [
    "def next_move(posx, posy, dimx, dimy, board):\n",
    "    r_c = []  \n",
    "    for k in range(dimx):\n",
    "        r_c.append([[k,i] for i in range(len(board[k])) if (board[k][i] == 'd')])\n",
    "    r_c = [r_c[x][y] for x in range(len(r_c)) for y in range(len(r_c[x]))]\n",
    "    move = [[ posx - c[0],posy -c[1]] for c in r_c]\n",
    "    count = [abs(posx - c[0]) + abs(posy -c[1]) for c in r_c]\n",
    "    p_min = [i for i in range(len(count)) if count[i] == min(count)][0]\n",
    "    if [posx ,posy] in r_c:\n",
    "        result = 'CLEAN'\n",
    "    else:\n",
    "        if move[p_min][0]==0:\n",
    "            if move[p_min][1]<0:\n",
    "                result = 'RIGHT'\n",
    "            else:\n",
    "                result = 'LEFT'\n",
    "        elif move[p_min][0]!=0:\n",
    "            if move[p_min][0]>0:\n",
    "                result = 'UP'\n",
    "            else:\n",
    "                result= 'DOWN'\n",
    "    print (result) \n",
    "\n",
    "if __name__ == \"__main__\":\n",
    "    pos = [int(i) for i in input().strip().split()]\n",
    "    dim = [int(i) for i in input().strip().split()]\n",
    "    board = [[j for j in input().strip()] for i in range(dim[0])]\n",
    "    next_move(pos[0], pos[1], dim[0], dim[1], board)"
   ]
  }
 ],
 "metadata": {
  "kernelspec": {
   "display_name": "Python 3",
   "language": "python",
   "name": "python3"
  },
  "language_info": {
   "codemirror_mode": {
    "name": "ipython",
    "version": 3
   },
   "file_extension": ".py",
   "mimetype": "text/x-python",
   "name": "python",
   "nbconvert_exporter": "python",
   "pygments_lexer": "ipython3",
   "version": "3.7.9"
  }
 },
 "nbformat": 4,
 "nbformat_minor": 4
}
